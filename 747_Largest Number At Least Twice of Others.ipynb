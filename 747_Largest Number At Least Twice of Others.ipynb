{
 "cells": [
  {
   "cell_type": "code",
   "execution_count": null,
   "metadata": {},
   "outputs": [],
   "source": [
    "# Runtime: 40 ms, faster than 95.88% of Python3 online submissions for 747.Largest Number At Least Twice of Others.\n",
    "# https://leetcode.com/problems/largest-number-at-least-twice-of-others/submissions/1\n",
    "\n",
    "class Solution:\n",
    "    def dominantIndex(self, nums):\n",
    "        if len(nums) == 0:\n",
    "            return -1\n",
    "        if len(nums)== 1:\n",
    "            return 0\n",
    "\n",
    "        max_num = max(nums)\n",
    "        max_index = nums.index(max_num)\n",
    "        nums.pop(max_index)\n",
    "        sec_max = max(nums)\n",
    "\n",
    "        if max_num >= sec_max * 2:\n",
    "            return max_index\n",
    "        else:\n",
    "            return -1"
   ]
  }
 ],
 "metadata": {
  "kernelspec": {
   "display_name": "Python 3",
   "language": "python",
   "name": "python3"
  },
  "language_info": {
   "codemirror_mode": {
    "name": "ipython",
    "version": 3
   },
   "file_extension": ".py",
   "mimetype": "text/x-python",
   "name": "python",
   "nbconvert_exporter": "python",
   "pygments_lexer": "ipython3",
   "version": "3.6.5"
  }
 },
 "nbformat": 4,
 "nbformat_minor": 2
}
