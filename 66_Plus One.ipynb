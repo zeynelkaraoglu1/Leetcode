{
 "cells": [
  {
   "cell_type": "markdown",
   "metadata": {},
   "source": [
    "# 66. Plus One\n",
    "https://leetcode.com/problems/plus-one\n",
    "\n",
    "Runtime: 40 ms, faster than 72.39% of Python3 online submissions for Plus One."
   ]
  },
  {
   "cell_type": "code",
   "execution_count": null,
   "metadata": {},
   "outputs": [],
   "source": [
    "# for Jupyter \n",
    "digits = [1, 2, 3, 9, 9, 9, 9, 9]\n",
    "nums =int(''.join(map(str, digits)))\n",
    "nums = nums + 1\n",
    "nums = str(nums)\n",
    "a  = [int(x) for x in nums]\n",
    "print(a)"
   ]
  },
  {
   "cell_type": "code",
   "execution_count": null,
   "metadata": {},
   "outputs": [],
   "source": [
    "# For leetcode\n",
    "class Solution:\n",
    "    def plusOne(self, digits):\n",
    "        nums =int(''.join(map(str, digits)))\n",
    "        nums = nums + 1\n",
    "        nums = str(nums)\n",
    "        return [int(x) for x in nums]"
   ]
  }
 ],
 "metadata": {
  "kernelspec": {
   "display_name": "Python 3",
   "language": "python",
   "name": "python3"
  },
  "language_info": {
   "codemirror_mode": {
    "name": "ipython",
    "version": 3
   },
   "file_extension": ".py",
   "mimetype": "text/x-python",
   "name": "python",
   "nbconvert_exporter": "python",
   "pygments_lexer": "ipython3",
   "version": "3.6.5"
  }
 },
 "nbformat": 4,
 "nbformat_minor": 2
}
