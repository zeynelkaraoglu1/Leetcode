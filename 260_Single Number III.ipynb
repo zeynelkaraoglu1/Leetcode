{
 "cells": [
  {
   "cell_type": "code",
   "execution_count": 33,
   "metadata": {},
   "outputs": [
    {
     "name": "stdout",
     "output_type": "stream",
     "text": [
      "[3, 5]\n"
     ]
    }
   ],
   "source": [
    "# https://leetcode.com/problems/single-number-iii/submissions/1\n",
    "#  v1             29 / 30 test cases passed.         Status: Time Limit Exceeded\n",
    "\n",
    "nums= [1,2,1,3,2,5]   \n",
    "dif_list =[]\n",
    "for i in range(len(nums)):\n",
    "    if (nums.count(nums[i]) == 1 ):\n",
    "        dif_list.append(nums[i]) \n",
    "print(dif_list)"
   ]
  },
  {
   "cell_type": "code",
   "execution_count": 36,
   "metadata": {},
   "outputs": [
    {
     "name": "stdout",
     "output_type": "stream",
     "text": [
      "[3, 5]\n"
     ]
    }
   ],
   "source": [
    "# https://leetcode.com/problems/single-number-iii/submissions/1\n",
    "#  v2             29 / 30 test cases passed.         Status: Time Limit Exceeded\n",
    "\n",
    "nums= [1,2,1,3,2,5]\n",
    "dif_list =[nums[i] for i in range(len(nums)) if (nums.count(nums[i]) == 1 )]            \n",
    "print(dif_list)"
   ]
  }
 ],
 "metadata": {
  "kernelspec": {
   "display_name": "Python 3",
   "language": "python",
   "name": "python3"
  },
  "language_info": {
   "codemirror_mode": {
    "name": "ipython",
    "version": 3
   },
   "file_extension": ".py",
   "mimetype": "text/x-python",
   "name": "python",
   "nbconvert_exporter": "python",
   "pygments_lexer": "ipython3",
   "version": "3.6.5"
  }
 },
 "nbformat": 4,
 "nbformat_minor": 2
}
