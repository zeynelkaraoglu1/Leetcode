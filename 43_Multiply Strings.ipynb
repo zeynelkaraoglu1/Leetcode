{
 "cells": [
  {
   "cell_type": "code",
   "execution_count": null,
   "metadata": {},
   "outputs": [],
   "source": [
    "# Runtime: 68 ms, faster than 60.19% of Python3 online submissions for Multiply Strings.\n",
    "class Solution:\n",
    "    def multiply(self, num1, num2):\n",
    "        num1 = int(num1)\n",
    "        num2 = int(num2)\n",
    "        num3 = num1 * num2\n",
    "        return str(num3)"
   ]
  },
  {
   "cell_type": "code",
   "execution_count": null,
   "metadata": {},
   "outputs": [],
   "source": [
    "Runtime: 40 ms, faster than 99.84% of Python3 online submissions for Multiply Strings.\n",
    "    \n",
    "class Solution:\n",
    "def multiply(self, num1, num2):\n",
    "    return str(int(num1)*int(num2))"
   ]
  }
 ],
 "metadata": {
  "kernelspec": {
   "display_name": "Python 3",
   "language": "python",
   "name": "python3"
  },
  "language_info": {
   "codemirror_mode": {
    "name": "ipython",
    "version": 3
   },
   "file_extension": ".py",
   "mimetype": "text/x-python",
   "name": "python",
   "nbconvert_exporter": "python",
   "pygments_lexer": "ipython3",
   "version": "3.6.5"
  }
 },
 "nbformat": 4,
 "nbformat_minor": 2
}
